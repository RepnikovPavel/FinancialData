{
 "cells": [
  {
   "cell_type": "code",
   "execution_count": 1,
   "metadata": {},
   "outputs": [],
   "source": [
    "from dateutil.relativedelta import *\n",
    "from dateutil.easter import *\n",
    "from dateutil.rrule import *\n",
    "from dateutil.parser import *\n",
    "from datetime import *\n",
    "from sklearn.preprocessing import LabelEncoder\n",
    "from numba import jit\n",
    "import conf\n",
    "from UI.LOG import *\n",
    "import cv2\n",
    "from aml.train_pipeline import *  \n",
    "from aml.train_pipeline import *\n",
    "import pandas as pd\n",
    "\n",
    "import os\n",
    "import torchvision\n",
    "from torchvision.models.detection.faster_rcnn import FastRCNNPredictor,FasterRCNN_ResNet50_FPN_Weights\n",
    "from torchinfo import summary\n",
    "\n",
    "# from torchvision.models.detection import ssd300_vgg16,SSD300_VGG16_Weights\n",
    "from torchvision.models.detection.ssd import SSDClassificationHead,SSD300_VGG16_Weights,det_utils\n",
    "from torchvision.models.detection import ssd300_vgg16\n",
    "\n",
    "import torch\n",
    "\n",
    "import aml.model_using as model_using\n",
    "import aml.support_func as support_funcS\n",
    "import aml.time_mesuarment as time_mesuarment\n",
    "import sys\n",
    "\n",
    "import aml.managers as managers\n",
    "import aml.img_processing as img_processing\n",
    "import random\n",
    "import numpy as np\n",
    "import pprint\n",
    "from torchinfo import summary\n",
    "from aml.img_processing import *\n",
    "\n",
    "from PIL import Image\n",
    "import aml.models as models\n",
    "import matplotlib.pyplot as plt\n",
    "from pprint import pprint as Print\n",
    "from PIL import Image\n",
    "import warnings\n",
    "from torchvision.utils import draw_bounding_boxes  \n",
    "from torchvision.io.image import read_image\n",
    "from torchvision.transforms.functional import to_pil_image\n",
    "from torchvision.ops import nms \n",
    "from torchmetrics.detection.mean_ap import MeanAveragePrecision as mAP\n",
    "from matplotlib.transforms import Affine2D\n",
    "import mpl_toolkits.axisartist.floating_axes as floating_axes\n",
    "from IPython.display import IFrame, display, HTML\n",
    "import sklearn\n",
    "from data_manip import Distrib1D,formatter_\n",
    "from tqdm import tqdm\n",
    "from sklearn import cluster\n",
    "tqdm.pandas()\n",
    "import matplotlib"
   ]
  },
  {
   "cell_type": "code",
   "execution_count": 2,
   "metadata": {},
   "outputs": [],
   "source": [
    "X = pd.read_csv(conf.X_train_reformated)"
   ]
  },
  {
   "cell_type": "markdown",
   "metadata": {},
   "source": [
    "# get numberic data list"
   ]
  },
  {
   "cell_type": "code",
   "execution_count": 3,
   "metadata": {},
   "outputs": [],
   "source": [
    "distributions = {} \n",
    "for cName in formatter_:\n",
    "    if cName not in X:\n",
    "        continue\n",
    "    expected_type = formatter_[cName]['to_type']\n",
    "    if 'int' in expected_type or 'float' in expected_type:\n",
    "        distr_ = Distrib1D(X,cName)\n",
    "        distributions.update({cName:distr_})\n",
    "numeric_columns = [el for el in list(distributions.keys())]"
   ]
  },
  {
   "cell_type": "code",
   "execution_count": 4,
   "metadata": {},
   "outputs": [
    {
     "data": {
      "text/plain": [
       "(1199861, 35)"
      ]
     },
     "execution_count": 4,
     "metadata": {},
     "output_type": "execute_result"
    }
   ],
   "source": [
    "X_numeric = X[numeric_columns]\n",
    "X_numeric.shape"
   ]
  },
  {
   "cell_type": "markdown",
   "metadata": {},
   "source": [
    "# drop column if nan rate >= 20%"
   ]
  },
  {
   "cell_type": "code",
   "execution_count": 5,
   "metadata": {},
   "outputs": [
    {
     "data": {
      "text/plain": [
       "(1199861, 30)"
      ]
     },
     "execution_count": 5,
     "metadata": {},
     "output_type": "execute_result"
    }
   ],
   "source": [
    "for cName in X_numeric:\n",
    "    if X_numeric[cName].notna().sum() < 0.8*X_numeric.shape[0]:\n",
    "        X_numeric = X_numeric.drop(columns=[cName])\n",
    "numeric_columns = [el for el in X_numeric]\n",
    "X_numeric.shape "
   ]
  },
  {
   "cell_type": "markdown",
   "metadata": {},
   "source": [
    "# drop row if it contains nan"
   ]
  },
  {
   "cell_type": "code",
   "execution_count": 6,
   "metadata": {},
   "outputs": [
    {
     "data": {
      "text/plain": [
       "(1000, 30)"
      ]
     },
     "execution_count": 6,
     "metadata": {},
     "output_type": "execute_result"
    }
   ],
   "source": [
    "X_numeric = X_numeric.dropna()\n",
    "X_numeric = X_numeric.sample(n=1000).to_numpy()\n",
    "X_numeric = sklearn.preprocessing.Normalizer().fit_transform(X_numeric)\n",
    "X_numeric.shape"
   ]
  },
  {
   "cell_type": "code",
   "execution_count": 7,
   "metadata": {},
   "outputs": [],
   "source": [
    "cl_alg = cluster.OPTICS(metric='manhattan',n_jobs=8)"
   ]
  },
  {
   "cell_type": "code",
   "execution_count": 8,
   "metadata": {},
   "outputs": [
    {
     "ename": "",
     "evalue": "",
     "output_type": "error",
     "traceback": [
      "\u001b[1;31mCannot execute code, session has been disposed. Please try restarting the Kernel."
     ]
    },
    {
     "ename": "",
     "evalue": "",
     "output_type": "error",
     "traceback": [
      "\u001b[1;31mThe Kernel crashed while executing code in the the current cell or a previous cell. Please review the code in the cell(s) to identify a possible cause of the failure. Click <a href='https://aka.ms/vscodeJupyterKernelCrash'>here</a> for more info. View Jupyter <a href='command:jupyter.viewOutput'>log</a> for further details."
     ]
    }
   ],
   "source": [
    "cl_alg.fit(X_numeric)"
   ]
  },
  {
   "cell_type": "code",
   "execution_count": null,
   "metadata": {},
   "outputs": [],
   "source": []
  }
 ],
 "metadata": {
  "kernelspec": {
   "display_name": "ml",
   "language": "python",
   "name": "python3"
  },
  "language_info": {
   "codemirror_mode": {
    "name": "ipython",
    "version": 3
   },
   "file_extension": ".py",
   "mimetype": "text/x-python",
   "name": "python",
   "nbconvert_exporter": "python",
   "pygments_lexer": "ipython3",
   "version": "3.10.12"
  },
  "orig_nbformat": 4
 },
 "nbformat": 4,
 "nbformat_minor": 2
}
